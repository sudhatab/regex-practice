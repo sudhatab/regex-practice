{
  "cells": [
    {
      "cell_type": "markdown",
      "metadata": {
        "id": "mtZQDWxxos3J"
      },
      "source": [
        "# 30 REGULAR EXPRESSION EXERCISES + SOLUTIONS!"
      ]
    },
    {
      "cell_type": "markdown",
      "metadata": {
        "id": "6jEYHJH3os3Q"
      },
      "source": [
        "Regex, you never know when they might come in handy. It's one of the \"good programmer\"'s fundamental yet a few people actually masters them.\n",
        "\n",
        "Challenge yourself in 30 exercises, just hide the solution in order not to peek ;)"
      ]
    },
    {
      "cell_type": "code",
      "execution_count": null,
      "metadata": {
        "id": "ghj1l7sQos3R"
      },
      "outputs": [],
      "source": [
        "import re"
      ]
    },
    {
      "cell_type": "markdown",
      "metadata": {
        "id": "_tO-OHUBos3T"
      },
      "source": [
        "1) Write a Python program to check that a string contains only a certain set of characters (in this case a-z, A-Z and 0-9)."
      ]
    },
    {
      "cell_type": "code",
      "execution_count": null,
      "metadata": {
        "id": "mCedfPZaos3U"
      },
      "outputs": [],
      "source": [
        "# Your code here"
      ]
    },
    {
      "cell_type": "code",
      "execution_count": null,
      "metadata": {
        "colab": {
          "base_uri": "https://localhost:8080/"
        },
        "id": "cXaMTykzos3V",
        "outputId": "6b1473f5-af17-477f-9d5c-373e9db261e5"
      },
      "outputs": [
        {
          "name": "stdout",
          "output_type": "stream",
          "text": [
            "True\n",
            "False\n"
          ]
        }
      ],
      "source": [
        "# Solution\n",
        "def is_allowed_specific_char(string):\n",
        "    charRe = re.compile(r'[^a-zA-Z0-9.]')\n",
        "    string = charRe.search(string)\n",
        "    return not bool(string)\n",
        "\n",
        "print(is_allowed_specific_char(\"ABCDEFabcdef123450\")) # True\n",
        "print(is_allowed_specific_char(\"*&%@#!}{\")) # False"
      ]
    },
    {
      "cell_type": "markdown",
      "metadata": {
        "id": "2oae-B8tos3W"
      },
      "source": [
        "2) Write a Python program that matches a string that has an a followed by zero or more b's"
      ]
    },
    {
      "cell_type": "code",
      "execution_count": null,
      "metadata": {
        "id": "ZGSVCQtaos3X"
      },
      "outputs": [],
      "source": [
        "# Your code here"
      ]
    },
    {
      "cell_type": "code",
      "execution_count": null,
      "metadata": {
        "colab": {
          "base_uri": "https://localhost:8080/"
        },
        "id": "1LHEOOMkos3X",
        "outputId": "94e52627-9eeb-4945-9151-2b87a9928267"
      },
      "outputs": [
        {
          "name": "stdout",
          "output_type": "stream",
          "text": [
            "Found a match!\n",
            "Found a match!\n",
            "Found a match!\n",
            "Not matched!\n"
          ]
        }
      ],
      "source": [
        "# Solution\n",
        "def text_match(text):\n",
        "        patterns = 'ab*?'\n",
        "        if re.search(patterns,  text):\n",
        "                return 'Found a match!'\n",
        "        else:\n",
        "                return('Not matched!')\n",
        "\n",
        "print(text_match(\"ac\"))   # Found a match!\n",
        "print(text_match(\"abc\"))  # Found a match!\n",
        "print(text_match(\"abbc\"))   # Found a match!\n",
        "print(text_match(\"bbc\"))  # Not matched"
      ]
    },
    {
      "cell_type": "markdown",
      "metadata": {
        "id": "AQRTCmJZos3Z"
      },
      "source": [
        "3) Write a Python program that matches a string that has an a followed by one or more b's"
      ]
    },
    {
      "cell_type": "code",
      "execution_count": null,
      "metadata": {
        "id": "4RWnfAyjos3Z"
      },
      "outputs": [],
      "source": [
        "# Your code here"
      ]
    },
    {
      "cell_type": "code",
      "execution_count": null,
      "metadata": {
        "colab": {
          "base_uri": "https://localhost:8080/"
        },
        "id": "H1X2NPQYos3a",
        "outputId": "611b5f71-26ee-42df-9cbc-ce94faeafa3c"
      },
      "outputs": [
        {
          "name": "stdout",
          "output_type": "stream",
          "text": [
            "Found a match!\n",
            "Found a match!\n",
            "Not matched!\n",
            "Not matched!\n"
          ]
        }
      ],
      "source": [
        "# Solution\n",
        "def text_match(text):\n",
        "        patterns = 'ab+?'\n",
        "        if re.search(patterns,  text):\n",
        "                return 'Found a match!'\n",
        "        else:\n",
        "                return('Not matched!')\n",
        "\n",
        "print(text_match(\"ab\"))   # Found a match!\n",
        "print(text_match(\"abc\"))   # Found a match!\n",
        "print(text_match(\"ac\"))  # Not matched\n",
        "print(text_match(\"bbc\"))  # Not matched"
      ]
    },
    {
      "cell_type": "markdown",
      "metadata": {
        "id": "E902uTcRos3a"
      },
      "source": [
        "4) Write a Python program that matches a string that has an a followed by zero or one 'b'"
      ]
    },
    {
      "cell_type": "code",
      "execution_count": null,
      "metadata": {
        "id": "EteZ4Nfios3b"
      },
      "outputs": [],
      "source": [
        "# Your code here"
      ]
    },
    {
      "cell_type": "code",
      "execution_count": null,
      "metadata": {
        "colab": {
          "base_uri": "https://localhost:8080/"
        },
        "id": "xeva0fRNos3b",
        "outputId": "4a3cc741-5a2b-43df-d8ec-2b465ddc439e"
      },
      "outputs": [
        {
          "name": "stdout",
          "output_type": "stream",
          "text": [
            "Found a match!\n",
            "Found a match!\n",
            "Found a match!\n",
            "Found a match!\n",
            "Found a match!\n",
            "Not matched!\n"
          ]
        }
      ],
      "source": [
        "# Solution\n",
        "def text_match(text):\n",
        "        patterns = 'ab?'\n",
        "        if re.search(patterns,  text):\n",
        "                return 'Found a match!'\n",
        "        else:\n",
        "                return('Not matched!')\n",
        "\n",
        "print(text_match(\"ab\"))  # Found a match!\n",
        "print(text_match(\"abc\"))  # Found a match!\n",
        "print(text_match(\"abbc\"))  # Found a match!\n",
        "print(text_match(\"aabbc\"))  # Found a match!\n",
        "print(text_match(\"ac\"))  # Found a match!\n",
        "print(text_match(\"bbc\"))  # Not matched"
      ]
    },
    {
      "cell_type": "markdown",
      "metadata": {
        "id": "whnPaW2kos3c"
      },
      "source": [
        "5) Write a Python program that matches a string that has an a followed by three 'b'"
      ]
    },
    {
      "cell_type": "code",
      "execution_count": null,
      "metadata": {
        "id": "rSSH58kCos3d"
      },
      "outputs": [],
      "source": [
        "# Your code here"
      ]
    },
    {
      "cell_type": "code",
      "execution_count": null,
      "metadata": {
        "colab": {
          "base_uri": "https://localhost:8080/"
        },
        "id": "0c_7S3h_os3d",
        "outputId": "d1f48476-e879-4b8f-eb66-b76e8a24966b"
      },
      "outputs": [
        {
          "name": "stdout",
          "output_type": "stream",
          "text": [
            "Found a match!\n",
            "Found a match!\n",
            "Not matched!\n",
            "Not matched!\n",
            "Not matched!\n"
          ]
        }
      ],
      "source": [
        "# Solution\n",
        "def text_match(text):\n",
        "        patterns = 'ab{3}?'\n",
        "        if re.search(patterns,  text):\n",
        "                return 'Found a match!'\n",
        "        else:\n",
        "                return('Not matched!')\n",
        "\n",
        "print(text_match(\"abbb\"))  # Found a match!\n",
        "print(text_match(\"aabbbbbc\"))  # Found a match!\n",
        "print(text_match(\"aabbc\"))  # Not matched\n",
        "print(text_match(\"ac\"))  # Not matched\n",
        "print(text_match(\"bbc\"))  # Not matched"
      ]
    },
    {
      "cell_type": "markdown",
      "metadata": {
        "id": "V4AsjJiCos3e"
      },
      "source": [
        "6) Write a Python program that matches a string that has an a followed by two to three 'b'."
      ]
    },
    {
      "cell_type": "code",
      "execution_count": null,
      "metadata": {
        "id": "IFlGLMRtos3e"
      },
      "outputs": [],
      "source": [
        "# Your code here"
      ]
    },
    {
      "cell_type": "code",
      "execution_count": null,
      "metadata": {
        "colab": {
          "base_uri": "https://localhost:8080/"
        },
        "id": "VjA5CXi1os3e",
        "outputId": "65162e94-2ee8-4377-d1b7-658b7017a700"
      },
      "outputs": [
        {
          "name": "stdout",
          "output_type": "stream",
          "text": [
            "Not matched!\n",
            "Found a match!\n",
            "Found a match!\n",
            "Not matched!\n",
            "Not matched!\n"
          ]
        }
      ],
      "source": [
        "# Solution\n",
        "def text_match(text):\n",
        "        patterns = 'ab{2,3}?'\n",
        "        if re.search(patterns,  text):\n",
        "                return 'Found a match!'\n",
        "        else:\n",
        "                return('Not matched!')\n",
        "\n",
        "print(text_match(\"ab\"))  # Not matched\n",
        "print(text_match(\"aabbbbbc\"))  # Found a match!\n",
        "print(text_match(\"aabbc\"))  # Found a match!\n",
        "print(text_match(\"ac\"))  # Not matched\n",
        "print(text_match(\"bbc\"))  # Not matched"
      ]
    },
    {
      "cell_type": "markdown",
      "metadata": {
        "id": "kX7sLRavos3f"
      },
      "source": [
        "7) Write a Python program to find sequences of lowercase letters joined with a underscore."
      ]
    },
    {
      "cell_type": "code",
      "execution_count": null,
      "metadata": {
        "id": "agWuI87Fos3f"
      },
      "outputs": [],
      "source": [
        "# Your code here"
      ]
    },
    {
      "cell_type": "code",
      "execution_count": null,
      "metadata": {
        "colab": {
          "base_uri": "https://localhost:8080/"
        },
        "id": "rbxk35n7os3g",
        "outputId": "0a85b2c8-519e-4747-f780-4c1dfe4c2168"
      },
      "outputs": [
        {
          "name": "stdout",
          "output_type": "stream",
          "text": [
            "Found a match!\n",
            "Not matched!\n",
            "Not matched!\n"
          ]
        }
      ],
      "source": [
        "# Solution\n",
        "def text_match(text):\n",
        "        patterns = '^[a-z]+_[a-z]+$'\n",
        "        if re.search(patterns,  text):\n",
        "                return 'Found a match!'\n",
        "        else:\n",
        "                return('Not matched!')\n",
        "\n",
        "print(text_match(\"aab_cbbbc\"))  # Found a match!\n",
        "print(text_match(\"aab_Abbbc\"))  # Not matched\n",
        "print(text_match(\"Aaab_abbbc\"))  # Not matched"
      ]
    },
    {
      "cell_type": "markdown",
      "metadata": {
        "id": "H4sat-Rfos3g"
      },
      "source": [
        "8) Write a Python program to find the sequences of one upper case letter followed by lower case letters."
      ]
    },
    {
      "cell_type": "code",
      "execution_count": null,
      "metadata": {
        "id": "SclrH6noos3g"
      },
      "outputs": [],
      "source": [
        "# Your code here"
      ]
    },
    {
      "cell_type": "code",
      "execution_count": null,
      "metadata": {
        "colab": {
          "base_uri": "https://localhost:8080/"
        },
        "id": "oeUiVHGVos3h",
        "outputId": "8f720cc8-6a78-45e1-f65d-9fb7ef9d675f"
      },
      "outputs": [
        {
          "name": "stdout",
          "output_type": "stream",
          "text": [
            "Not matched!\n",
            "Found a match!\n",
            "Found a match!\n"
          ]
        }
      ],
      "source": [
        "# Solution\n",
        "def text_match(text):\n",
        "        patterns = '^[a-z]+_[a-z]+$'\n",
        "        if not re.search(patterns,  text):\n",
        "                return 'Found a match!'\n",
        "        else:\n",
        "                return('Not matched!')\n",
        "\n",
        "print(text_match(\"aab_cbbbc\"))  # Not matched\n",
        "print(text_match(\"aab_Abbbc\"))  # Found a match!\n",
        "print(text_match(\"Aaab_abbbc\"))  # Found a match!"
      ]
    },
    {
      "cell_type": "markdown",
      "metadata": {
        "id": "RgNBl7aEos3h"
      },
      "source": [
        "9) Write a Python program that matches a string that has an 'a' followed by anything, ending in 'b'."
      ]
    },
    {
      "cell_type": "code",
      "execution_count": null,
      "metadata": {
        "id": "xXPVQkB_os3i"
      },
      "outputs": [],
      "source": [
        "# Your code here"
      ]
    },
    {
      "cell_type": "code",
      "execution_count": null,
      "metadata": {
        "colab": {
          "base_uri": "https://localhost:8080/"
        },
        "id": "YbCsos7Jos3i",
        "outputId": "db2efed4-af8c-46c8-9377-a0ba9f03e26c"
      },
      "outputs": [
        {
          "name": "stdout",
          "output_type": "stream",
          "text": [
            "Not matched!\n",
            "Not matched!\n",
            "Found a match!\n"
          ]
        }
      ],
      "source": [
        "# Solution\n",
        "def text_match(text):\n",
        "        patterns = 'a.*?b$'\n",
        "        if re.search(patterns,  text):\n",
        "                return 'Found a match!'\n",
        "        else:\n",
        "                return('Not matched!')\n",
        "\n",
        "print(text_match(\"aabbbbd\"))  # Not matched\n",
        "print(text_match(\"aabAbbbc\"))  # Not matched\n",
        "print(text_match(\"accddbbjjjb\"))  # Found a match!"
      ]
    },
    {
      "cell_type": "markdown",
      "metadata": {
        "id": "0oHZnx0Gos3i"
      },
      "source": [
        "10) Write a Python program that matches a word at the beginning of a string."
      ]
    },
    {
      "cell_type": "code",
      "execution_count": null,
      "metadata": {
        "id": "8a7xI1HEos3i"
      },
      "outputs": [],
      "source": [
        "# Your code here"
      ]
    },
    {
      "cell_type": "code",
      "execution_count": null,
      "metadata": {
        "colab": {
          "base_uri": "https://localhost:8080/"
        },
        "id": "1tlZiGMaos3j",
        "outputId": "b91c4783-6cfa-4b4d-f38b-753c4b1283e8"
      },
      "outputs": [
        {
          "name": "stdout",
          "output_type": "stream",
          "text": [
            "Found a match!\n",
            "Not matched!\n"
          ]
        }
      ],
      "source": [
        "# Solution\n",
        "def text_match(text):\n",
        "        patterns = '^\\w+'\n",
        "        if re.search(patterns,  text):\n",
        "                return 'Found a match!'\n",
        "        else:\n",
        "                return('Not matched!')\n",
        "\n",
        "print(text_match(\"The quick brown fox jumps over the lazy dog.\"))  # Found a match!\n",
        "print(text_match(\" The quick brown fox jumps over the lazy dog.\"))  # Not matched"
      ]
    },
    {
      "cell_type": "markdown",
      "metadata": {
        "id": "mG0jspZFos3j"
      },
      "source": [
        "11) Write a Python program that matches a word at the end of string, with optional punctuation."
      ]
    },
    {
      "cell_type": "code",
      "execution_count": null,
      "metadata": {
        "id": "NAIiL6n0os3j"
      },
      "outputs": [],
      "source": [
        "# Your code here"
      ]
    },
    {
      "cell_type": "code",
      "execution_count": null,
      "metadata": {
        "colab": {
          "base_uri": "https://localhost:8080/"
        },
        "id": "cmhnhbZnos3j",
        "outputId": "29da376b-3988-41f0-deff-2b9d838a436e"
      },
      "outputs": [
        {
          "name": "stdout",
          "output_type": "stream",
          "text": [
            "Found a match!\n",
            "Not matched!\n",
            "Not matched!\n"
          ]
        }
      ],
      "source": [
        "# Solution\n",
        "def text_match(text):\n",
        "        patterns = '\\w+\\S*$'\n",
        "        if re.search(patterns,  text):\n",
        "                return 'Found a match!'\n",
        "        else:\n",
        "                return('Not matched!')\n",
        "\n",
        "print(text_match(\"The quick brown fox jumps over the lazy dog.\"))  # Found a match!\n",
        "print(text_match(\"The quick brown fox jumps over the lazy dog. \"))  # Not matched\n",
        "print(text_match(\"The quick brown fox jumps over the lazy dog \"))  # Not matched"
      ]
    },
    {
      "cell_type": "markdown",
      "metadata": {
        "id": "DBgbyYHXos3k"
      },
      "source": [
        "12) Write a Python program that matches a word containing 'z'"
      ]
    },
    {
      "cell_type": "code",
      "execution_count": null,
      "metadata": {
        "id": "X5_OniS3os3k"
      },
      "outputs": [],
      "source": [
        "# Your code here"
      ]
    },
    {
      "cell_type": "code",
      "execution_count": null,
      "metadata": {
        "colab": {
          "base_uri": "https://localhost:8080/"
        },
        "id": "WxuMRyCbos3k",
        "outputId": "93d6d432-d014-4211-cf7a-83304c33bf2b"
      },
      "outputs": [
        {
          "name": "stdout",
          "output_type": "stream",
          "text": [
            "Found a match!\n",
            "Not matched!\n"
          ]
        }
      ],
      "source": [
        "# Solution\n",
        "def text_match(text):\n",
        "        patterns = '\\w*z.\\w*'\n",
        "        if re.search(patterns,  text):\n",
        "                return 'Found a match!'\n",
        "        else:\n",
        "                return('Not matched!')\n",
        "\n",
        "print(text_match(\"The quick brown fox jumps over the lazy dog.\"))  # Found a match!\n",
        "print(text_match(\"Python Exercises.\"))  # Not matched"
      ]
    },
    {
      "cell_type": "markdown",
      "metadata": {
        "id": "V_9_nk8Kos3l"
      },
      "source": [
        "13) Write a Python program that matches a word containing 'z', not at the start or end of the word."
      ]
    },
    {
      "cell_type": "code",
      "execution_count": null,
      "metadata": {
        "id": "3g3Sv7Rios3l"
      },
      "outputs": [],
      "source": [
        "# Your code here"
      ]
    },
    {
      "cell_type": "code",
      "execution_count": null,
      "metadata": {
        "colab": {
          "base_uri": "https://localhost:8080/"
        },
        "id": "VEhCCh7yos3l",
        "outputId": "a935e0eb-7359-474f-e48d-5be18e614ccc"
      },
      "outputs": [
        {
          "name": "stdout",
          "output_type": "stream",
          "text": [
            "Found a match!\n",
            "Not matched!\n"
          ]
        }
      ],
      "source": [
        "# Solution\n",
        "def text_match(text):\n",
        "        patterns = '\\Bz\\B'\n",
        "        if re.search(patterns,  text):\n",
        "                return 'Found a match!'\n",
        "        else:\n",
        "                return('Not matched!')\n",
        "\n",
        "print(text_match(\"The quick brown fox jumps over the lazy dog.\"))  # Found a match!\n",
        "print(text_match(\"Python Exercises.\"))  # Not matched"
      ]
    },
    {
      "cell_type": "markdown",
      "metadata": {
        "id": "L0lV07OCos3m"
      },
      "source": [
        "14) Write a Python program to match a string that contains only upper and lowercase letters, numbers, and underscores."
      ]
    },
    {
      "cell_type": "code",
      "execution_count": null,
      "metadata": {
        "id": "YHXf2rrios3m"
      },
      "outputs": [],
      "source": [
        "# Your code here"
      ]
    },
    {
      "cell_type": "code",
      "execution_count": null,
      "metadata": {
        "colab": {
          "base_uri": "https://localhost:8080/"
        },
        "id": "E9NcoWDhos3m",
        "outputId": "d2086571-2a82-4d41-caff-371933f9a386"
      },
      "outputs": [
        {
          "name": "stdout",
          "output_type": "stream",
          "text": [
            "Not matched!\n",
            "Found a match!\n"
          ]
        }
      ],
      "source": [
        "# Solution\n",
        "def text_match(text):\n",
        "        patterns = '^[a-zA-Z0-9_]*$'\n",
        "        if re.search(patterns,  text):\n",
        "                return 'Found a match!'\n",
        "        else:\n",
        "                return('Not matched!')\n",
        "\n",
        "print(text_match(\"The quick brown fox jumps over the lazy dog.\"))  # Not matched\n",
        "print(text_match(\"Python_Exercises_1\"))  # Found a match!"
      ]
    },
    {
      "cell_type": "markdown",
      "metadata": {
        "id": "EvKJ8WOoos3n"
      },
      "source": [
        "15) Write a Python program where a string will start with a specific number. "
      ]
    },
    {
      "cell_type": "code",
      "execution_count": null,
      "metadata": {
        "id": "DIaMA5Ncos3n"
      },
      "outputs": [],
      "source": [
        "# Your code here"
      ]
    },
    {
      "cell_type": "code",
      "execution_count": null,
      "metadata": {
        "colab": {
          "base_uri": "https://localhost:8080/"
        },
        "id": "nWp5QysTos3n",
        "outputId": "1e56780b-0370-4550-93f1-4409bf9e3ed8"
      },
      "outputs": [
        {
          "name": "stdout",
          "output_type": "stream",
          "text": [
            "True\n",
            "False\n"
          ]
        }
      ],
      "source": [
        "# Solution\n",
        "def match_num(string):\n",
        "    text = re.compile(r\"^5\")\n",
        "    if text.match(string):\n",
        "        return True\n",
        "    else:\n",
        "        return False\n",
        "print(match_num('5-2345861')) # True\n",
        "print(match_num('6-2345861')) # False"
      ]
    },
    {
      "cell_type": "markdown",
      "metadata": {
        "id": "r_I1cbvios3t"
      },
      "source": [
        "16) Write a Python program to remove leading zeros from an IP address"
      ]
    },
    {
      "cell_type": "code",
      "execution_count": null,
      "metadata": {
        "id": "s2MF6a28os3t"
      },
      "outputs": [],
      "source": [
        "# Your code here"
      ]
    },
    {
      "cell_type": "code",
      "execution_count": null,
      "metadata": {
        "colab": {
          "base_uri": "https://localhost:8080/"
        },
        "id": "cRLX4hc3os3u",
        "outputId": "a5a67048-778a-4c24-cf19-cb6d986ced66"
      },
      "outputs": [
        {
          "name": "stdout",
          "output_type": "stream",
          "text": [
            "216.8.94.196\n"
          ]
        }
      ],
      "source": [
        "# Solution\n",
        "def rewrite_ip(ip):\n",
        "  # your code here\n",
        "  return re.sub('\\.[0]*', '.', ip)\n",
        "\n",
        "\n",
        "ip = \"216.08.094.196\"\n",
        "string = rewrite_ip(ip)\n",
        "print(string) # 216.8.94.196"
      ]
    },
    {
      "cell_type": "markdown",
      "metadata": {
        "id": "ZCn9r3o2os3u"
      },
      "source": [
        "17) Write a Python program to check for a number at the end of a string."
      ]
    },
    {
      "cell_type": "code",
      "execution_count": null,
      "metadata": {
        "id": "VFoIdbnBos3u"
      },
      "outputs": [],
      "source": [
        "# Your code here"
      ]
    },
    {
      "cell_type": "code",
      "execution_count": null,
      "metadata": {
        "colab": {
          "base_uri": "https://localhost:8080/"
        },
        "id": "Q5t9U6n8os3u",
        "outputId": "244ef3f6-0706-4864-c62c-de2ce29d85bd"
      },
      "outputs": [
        {
          "name": "stdout",
          "output_type": "stream",
          "text": [
            "False\n",
            "True\n"
          ]
        }
      ],
      "source": [
        "# Solution\n",
        "def end_num(string):\n",
        "    text = re.compile(r\".*[0-9]$\")\n",
        "    if text.match(string):\n",
        "        return True\n",
        "    else:\n",
        "        return False\n",
        "\n",
        "print(end_num('abcdef'))  # False\n",
        "print(end_num('abcdef6')) # True"
      ]
    },
    {
      "cell_type": "markdown",
      "metadata": {
        "id": "0tM4eW8Wos3v"
      },
      "source": [
        "18) Write a Python program to search the numbers (0-9) of length between 1 to 3 in a given string. "
      ]
    },
    {
      "cell_type": "code",
      "execution_count": null,
      "metadata": {
        "id": "1tTgPJe4os3v"
      },
      "outputs": [],
      "source": [
        "# Your code here"
      ]
    },
    {
      "cell_type": "code",
      "execution_count": null,
      "metadata": {
        "colab": {
          "base_uri": "https://localhost:8080/"
        },
        "id": "7QGwzVxDos3v",
        "outputId": "372f6741-2f68-41c2-bdef-126d80e4a1e4"
      },
      "outputs": [
        {
          "name": "stdout",
          "output_type": "stream",
          "text": [
            "Number of length 1 to 3\n",
            "1\n",
            "12\n",
            "13\n",
            "345\n"
          ]
        }
      ],
      "source": [
        "# Solution\n",
        "def print_digits(string):\n",
        "  results = re.finditer(r\"([0-9]{1,3})\", string)\n",
        "  print(\"Number of length 1 to 3\")\n",
        "  for n in results:\n",
        "      print(n.group(0))\n",
        "\n",
        "\n",
        "string = \"Exercises number 1, 12, 13, and 345 are important\"\n",
        "print_digits(string)\n",
        "# Number of length 1 to 3\n",
        "# 1\n",
        "# 12\n",
        "# 13\n",
        "# 345"
      ]
    },
    {
      "cell_type": "markdown",
      "metadata": {
        "id": "43nNb7d_os3v"
      },
      "source": [
        "19) Write a Python program to search some literals strings in a string. \n",
        "Sample text : 'The quick brown fox jumps over the lazy dog.'\n",
        "Searched words : 'fox', 'dog', 'horse'"
      ]
    },
    {
      "cell_type": "code",
      "execution_count": null,
      "metadata": {
        "id": "Rc6s2CRCos3w"
      },
      "outputs": [],
      "source": [
        "# Your code here"
      ]
    },
    {
      "cell_type": "code",
      "execution_count": null,
      "metadata": {
        "colab": {
          "background_save": true,
          "base_uri": "https://localhost:8080/",
          "height": 357
        },
        "id": "KIVHxWN9os3w",
        "outputId": "c05e194d-efbf-49c3-ea34-ee99bd7ae536"
      },
      "outputs": [
        {
          "ename": "NameError",
          "evalue": "ignored",
          "output_type": "error",
          "traceback": [
            "\u001b[0;31m---------------------------------------------------------------------------\u001b[0m",
            "\u001b[0;31mNameError\u001b[0m                                 Traceback (most recent call last)",
            "\u001b[0;32m<ipython-input-8-84fb70ee1e4c>\u001b[0m in \u001b[0;36m<module>\u001b[0;34m()\u001b[0m\n\u001b[1;32m     11\u001b[0m \u001b[0mpatterns\u001b[0m \u001b[0;34m=\u001b[0m \u001b[0;34m[\u001b[0m \u001b[0;34m'fox'\u001b[0m\u001b[0;34m,\u001b[0m \u001b[0;34m'dog'\u001b[0m\u001b[0;34m,\u001b[0m \u001b[0;34m'horse'\u001b[0m \u001b[0;34m]\u001b[0m\u001b[0;34m\u001b[0m\u001b[0;34m\u001b[0m\u001b[0m\n\u001b[1;32m     12\u001b[0m \u001b[0mtext\u001b[0m \u001b[0;34m=\u001b[0m \u001b[0;34m'The quick brown fox jumps over the lazy dog.'\u001b[0m\u001b[0;34m\u001b[0m\u001b[0;34m\u001b[0m\u001b[0m\n\u001b[0;32m---> 13\u001b[0;31m \u001b[0mprint_match\u001b[0m\u001b[0;34m(\u001b[0m\u001b[0mpatterns\u001b[0m\u001b[0;34m,\u001b[0m \u001b[0mtext\u001b[0m\u001b[0;34m)\u001b[0m\u001b[0;34m\u001b[0m\u001b[0;34m\u001b[0m\u001b[0m\n\u001b[0m\u001b[1;32m     14\u001b[0m \u001b[0;31m# Searching for \"fox\" in \"The quick brown fox jumps over the lazy dog.\" ->\u001b[0m\u001b[0;34m\u001b[0m\u001b[0;34m\u001b[0m\u001b[0;34m\u001b[0m\u001b[0m\n\u001b[1;32m     15\u001b[0m \u001b[0;31m# Matched!\u001b[0m\u001b[0;34m\u001b[0m\u001b[0;34m\u001b[0m\u001b[0;34m\u001b[0m\u001b[0m\n",
            "\u001b[0;32m<ipython-input-8-84fb70ee1e4c>\u001b[0m in \u001b[0;36mprint_match\u001b[0;34m(patterns, text)\u001b[0m\n\u001b[1;32m      2\u001b[0m \u001b[0;32mdef\u001b[0m \u001b[0mprint_match\u001b[0m\u001b[0;34m(\u001b[0m\u001b[0mpatterns\u001b[0m\u001b[0;34m,\u001b[0m \u001b[0mtext\u001b[0m\u001b[0;34m)\u001b[0m\u001b[0;34m:\u001b[0m\u001b[0;34m\u001b[0m\u001b[0;34m\u001b[0m\u001b[0m\n\u001b[1;32m      3\u001b[0m   \u001b[0;32mfor\u001b[0m \u001b[0mpattern\u001b[0m \u001b[0;32min\u001b[0m \u001b[0mpatterns\u001b[0m\u001b[0;34m:\u001b[0m\u001b[0;34m\u001b[0m\u001b[0;34m\u001b[0m\u001b[0m\n\u001b[0;32m----> 4\u001b[0;31m       \u001b[0mprint\u001b[0m\u001b[0;34m(\u001b[0m\u001b[0;34m'Searching for \"%s\" in \"%s\" ->'\u001b[0m \u001b[0;34m%\u001b[0m\u001b[0ms\u001b[0m \u001b[0;34m(\u001b[0m\u001b[0mpattern\u001b[0m\u001b[0;34m,\u001b[0m \u001b[0mtext\u001b[0m\u001b[0;34m)\u001b[0m\u001b[0;34m,\u001b[0m\u001b[0;34m)\u001b[0m\u001b[0;34m\u001b[0m\u001b[0;34m\u001b[0m\u001b[0m\n\u001b[0m\u001b[1;32m      5\u001b[0m       \u001b[0;32mif\u001b[0m \u001b[0mre\u001b[0m\u001b[0;34m.\u001b[0m\u001b[0msearch\u001b[0m\u001b[0;34m(\u001b[0m\u001b[0mpattern\u001b[0m\u001b[0;34m,\u001b[0m  \u001b[0mtext\u001b[0m\u001b[0;34m)\u001b[0m\u001b[0;34m:\u001b[0m\u001b[0;34m\u001b[0m\u001b[0;34m\u001b[0m\u001b[0m\n\u001b[1;32m      6\u001b[0m           \u001b[0mprint\u001b[0m\u001b[0;34m(\u001b[0m\u001b[0;34m'Matched!'\u001b[0m\u001b[0;34m)\u001b[0m\u001b[0;34m\u001b[0m\u001b[0;34m\u001b[0m\u001b[0m\n",
            "\u001b[0;31mNameError\u001b[0m: name 's' is not defined"
          ]
        }
      ],
      "source": [
        "# Solution\n",
        "def print_match(patterns, text):\n",
        "  for pattern in patterns:\n",
        "      print('Searching for \"%s\" in \"%s\" ->' %s (pattern, text),)\n",
        "      if re.search(pattern,  text):\n",
        "          print('Matched!')\n",
        "      else:\n",
        "          print('Not Matched!')\n",
        "\n",
        "\n",
        "patterns = [ 'fox', 'dog', 'horse' ]\n",
        "text = 'The quick brown fox jumps over the lazy dog.'\n",
        "print_match(patterns, text)\n",
        "# Searching for \"fox\" in \"The quick brown fox jumps over the lazy dog.\" ->\n",
        "# Matched!\n",
        "# Searching for \"dog\" in \"The quick brown fox jumps over the lazy dog.\" ->\n",
        "# Matched!\n",
        "# Searching for \"horse\" in \"The quick brown fox jumps over the lazy dog.\" ->\n",
        "# Not Matched!"
      ]
    },
    {
      "cell_type": "markdown",
      "metadata": {
        "id": "XjdROmMhos3w"
      },
      "source": [
        "20) Write a Python program to search a literals string in a string and also find the location within the original string where the pattern occurs\n",
        "\n",
        "Sample text : 'The quick brown fox jumps over the lazy dog.'\n",
        "Searched words : 'fox'"
      ]
    },
    {
      "cell_type": "code",
      "execution_count": null,
      "metadata": {
        "id": "xDIUVfmNos3w"
      },
      "outputs": [],
      "source": [
        "# Your code here"
      ]
    },
    {
      "cell_type": "code",
      "execution_count": null,
      "metadata": {
        "colab": {
          "base_uri": "https://localhost:8080/"
        },
        "id": "vWViImYios3w",
        "outputId": "4cf9d99f-062c-42b3-d99b-179389db334b"
      },
      "outputs": [
        {
          "name": "stdout",
          "output_type": "stream",
          "text": [
            "Found \"fox\" in \"The quick brown fox jumps over the lazy dog.\" from 16 to 19 \n"
          ]
        }
      ],
      "source": [
        "# Solution\n",
        "def print_match_location(pattern, text):\n",
        "  match = re.search(pattern, text)\n",
        "  s = match.start()\n",
        "  e = match.end()\n",
        "  print('Found \"%s\" in \"%s\" from %d to %d ' % (match.re.pattern, match.string, s, e))\n",
        "\n",
        "pattern = 'fox'\n",
        "text = 'The quick brown fox jumps over the lazy dog.'\n",
        "print_match_location(pattern, text)\n",
        "# Found \"fox\" in \"The quick brown fox jumps over the lazy dog.\" from 16 to 19"
      ]
    },
    {
      "cell_type": "markdown",
      "metadata": {
        "id": "lLRotk-Oos3x"
      },
      "source": [
        "21) Write a Python program to find the substrings within a string.\n",
        "\n",
        "Sample text :\n",
        "\n",
        "'Python exercises, PHP exercises, C# exercises'\n",
        "\n",
        "Pattern :\n",
        "\n",
        "'exercises'\n",
        "\n",
        "Note: There are three instances of exercises in the input string."
      ]
    },
    {
      "cell_type": "code",
      "execution_count": null,
      "metadata": {
        "id": "PayGxhghos3x"
      },
      "outputs": [],
      "source": [
        "# Your code here"
      ]
    },
    {
      "cell_type": "code",
      "execution_count": null,
      "metadata": {
        "colab": {
          "base_uri": "https://localhost:8080/"
        },
        "id": "XU8613rTos3x",
        "outputId": "41c6c210-ff51-46a0-cdb8-c3bedcf1d869"
      },
      "outputs": [
        {
          "name": "stdout",
          "output_type": "stream",
          "text": [
            "Found \"exercises\"\n",
            "Found \"exercises\"\n",
            "Found \"exercises\"\n"
          ]
        }
      ],
      "source": [
        "# Solution\n",
        "def find_all_matches(pattern, text):\n",
        "  for match in re.findall(pattern, text):\n",
        "      print('Found \"%s\"' % match)\n",
        "\n",
        "text = 'Python exercises, PHP exercises, C# exercises'\n",
        "pattern = 'exercises'\n",
        "find_all_matches(pattern, text)\n",
        "# Found \"exercises\"\n",
        "# Found \"exercises\"\n",
        "# Found \"exercises\""
      ]
    },
    {
      "cell_type": "markdown",
      "metadata": {
        "id": "uvAY6v7Oos3x"
      },
      "source": [
        "22) Write a Python program to find the occurrence and position of the substrings within a string."
      ]
    },
    {
      "cell_type": "code",
      "execution_count": null,
      "metadata": {
        "id": "-SZ2StNpos3y"
      },
      "outputs": [],
      "source": [
        "# Your code here"
      ]
    },
    {
      "cell_type": "code",
      "execution_count": null,
      "metadata": {
        "colab": {
          "base_uri": "https://localhost:8080/"
        },
        "id": "UFg6rXJnos3y",
        "outputId": "bfe869ee-8de1-40b0-fd85-7c59d0d994ff"
      },
      "outputs": [
        {
          "name": "stdout",
          "output_type": "stream",
          "text": [
            "Found \"exercises\" at 7:16\n",
            "Found \"exercises\" at 22:31\n",
            "Found \"exercises\" at 36:45\n"
          ]
        }
      ],
      "source": [
        "# Solution\n",
        "def find_all_matches_location(pattern, text):\n",
        "  for match in re.finditer(pattern, text):\n",
        "      s = match.start()\n",
        "      e = match.end()\n",
        "      print('Found \"%s\" at %d:%d' % (text[s:e], s, e))\n",
        "\n",
        "\n",
        "text = 'Python exercises, PHP exercises, C# exercises'\n",
        "pattern = 'exercises'\n",
        "find_all_matches_location(pattern, text)\n",
        "# Found \"exercises\" at 7:16\n",
        "# Found \"exercises\" at 22:31\n",
        "# Found \"exercises\" at 36:45"
      ]
    },
    {
      "cell_type": "markdown",
      "metadata": {
        "id": "Sb3zKxE-os3y"
      },
      "source": [
        "23) Write a Python program to replace whitespaces with an underscore and vice versa."
      ]
    },
    {
      "cell_type": "code",
      "execution_count": null,
      "metadata": {
        "id": "x-IP9P6Mos3y"
      },
      "outputs": [],
      "source": [
        "# Your code here"
      ]
    },
    {
      "cell_type": "code",
      "execution_count": null,
      "metadata": {
        "colab": {
          "base_uri": "https://localhost:8080/"
        },
        "id": "nUxR5Xvjos3z",
        "outputId": "932c8b96-44d4-44c3-87eb-848412be2e63"
      },
      "outputs": [
        {
          "name": "stdout",
          "output_type": "stream",
          "text": [
            "Python_Exercises\n",
            "Python Exercises\n"
          ]
        }
      ],
      "source": [
        "# Solution\n",
        "text = 'Python Exercises'\n",
        "text = text.replace (\" \", \"_\")\n",
        "print(text) # Python_Exercises\n",
        "text = text.replace (\"_\", \" \")\n",
        "print(text) # Python Exercises"
      ]
    },
    {
      "cell_type": "markdown",
      "metadata": {
        "id": "grqoW-pgos3z"
      },
      "source": [
        "24) Write a Python program to extract year, month and date from a an url. "
      ]
    },
    {
      "cell_type": "code",
      "execution_count": null,
      "metadata": {
        "id": "inSpFbH2os3z"
      },
      "outputs": [],
      "source": [
        "# Your code here"
      ]
    },
    {
      "cell_type": "code",
      "execution_count": null,
      "metadata": {
        "colab": {
          "base_uri": "https://localhost:8080/"
        },
        "id": "K2-pacqmos3z",
        "outputId": "e3e7bc4b-478e-4f21-b5c1-709d837563b8"
      },
      "outputs": [
        {
          "name": "stdout",
          "output_type": "stream",
          "text": [
            "[('2016', '09', '02')]\n"
          ]
        }
      ],
      "source": [
        "# Solution\n",
        "def extract_date(url):\n",
        "        return re.findall(r'/(\\d{4})/(\\d{1,2})/(\\d{1,2})/', url)\n",
        "url1= \"https://www.washingtonpost.com/news/football-insider/wp/2016/09/02/odell-beckhams-fame-rests-on-one-stupid-little-ball-josh-norman-tells-author/\"\n",
        "print(extract_date(url1)) # [('2016', '09', '02')]"
      ]
    },
    {
      "cell_type": "markdown",
      "metadata": {
        "id": "gyD5AZW7os3z"
      },
      "source": [
        "25) Write a Python program to convert a date of yyyy-mm-dd format to dd-mm-yyyy format."
      ]
    },
    {
      "cell_type": "code",
      "execution_count": null,
      "metadata": {
        "id": "o7DIGQpmos30"
      },
      "outputs": [],
      "source": [
        "# Your code here"
      ]
    },
    {
      "cell_type": "code",
      "execution_count": null,
      "metadata": {
        "colab": {
          "base_uri": "https://localhost:8080/"
        },
        "id": "bo-jpYqZos30",
        "outputId": "17d6c5b8-54e9-4e30-88a7-0e6b66441e0d"
      },
      "outputs": [
        {
          "name": "stdout",
          "output_type": "stream",
          "text": [
            "Original date in YYY-MM-DD Format:  2026-01-02\n",
            "New date in DD-MM-YYYY Format:  02-01-2026\n"
          ]
        }
      ],
      "source": [
        "# Solution\n",
        "def change_date_format(dt):\n",
        "        return re.sub(r'(\\d{4})-(\\d{1,2})-(\\d{1,2})', '\\\\3-\\\\2-\\\\1', dt)\n",
        "\n",
        "dt1 = \"2026-01-02\"\n",
        "print(\"Original date in YYY-MM-DD Format: \",dt1)  # Original date in YYY-MM-DD Format:  2026-01-02\n",
        "print(\"New date in DD-MM-YYYY Format: \",change_date_format(dt1))  # New date in DD-MM-YYYY Format:  02-01-2026"
      ]
    },
    {
      "cell_type": "markdown",
      "metadata": {
        "id": "IQ2SNL-gos30"
      },
      "source": [
        "26) Write a Python program to match if two words from a list of words starting with letter 'P'."
      ]
    },
    {
      "cell_type": "code",
      "execution_count": null,
      "metadata": {
        "id": "bFOINuRAos31"
      },
      "outputs": [],
      "source": [
        "# Your code here"
      ]
    },
    {
      "cell_type": "code",
      "execution_count": null,
      "metadata": {
        "colab": {
          "base_uri": "https://localhost:8080/"
        },
        "id": "2hP4Twe0os31",
        "outputId": "63dc7366-4327-4102-a82e-77349422d61c"
      },
      "outputs": [
        {
          "name": "stdout",
          "output_type": "stream",
          "text": [
            "('Python', 'PHP')\n"
          ]
        }
      ],
      "source": [
        "# Solution\n",
        "def print_words_starting_with_P(words):\n",
        "  for w in words:\n",
        "          m = re.match(\"(P\\w+)\\W(P\\w+)\", w)\n",
        "          # Check for success\n",
        "          if m:\n",
        "              print(m.groups())\n",
        "\n",
        "# Sample strings.\n",
        "words = [\"Python PHP\", \"Java JavaScript\", \"c c++\"]\n",
        "print_words_starting_with_P(words)  # ('Python', 'PHP')"
      ]
    },
    {
      "cell_type": "markdown",
      "metadata": {
        "id": "MEUMKMn0os31"
      },
      "source": [
        "27) Write a Python program to separate and print the numbers of a given string."
      ]
    },
    {
      "cell_type": "code",
      "execution_count": null,
      "metadata": {
        "id": "JGU8Hs6oos31"
      },
      "outputs": [],
      "source": [
        "# Your code here"
      ]
    },
    {
      "cell_type": "code",
      "execution_count": null,
      "metadata": {
        "colab": {
          "base_uri": "https://localhost:8080/"
        },
        "id": "xG8c9PtUos32",
        "outputId": "588d4d9b-115f-4a2d-8dd4-ba42736429a4"
      },
      "outputs": [
        {
          "name": "stdout",
          "output_type": "stream",
          "text": [
            "\n",
            "10\n",
            "20\n",
            "30\n"
          ]
        }
      ],
      "source": [
        "# Solution\n",
        "def print_all_numbers(text):\n",
        "  result = re.split(\"\\D+\", text)\n",
        "  # Print results.\n",
        "  for element in result:\n",
        "      print(element)\n",
        "\n",
        "# Sample string.\n",
        "text = \"Ten 10, Twenty 20, Thirty 30\"\n",
        "print_all_numbers(text)\n",
        "# 10\n",
        "# 20\n",
        "# 30"
      ]
    },
    {
      "cell_type": "markdown",
      "metadata": {
        "id": "krdKu3Mvos32"
      },
      "source": [
        "28) Write a Python program to find all words starting with 'a' or 'e' in a given string."
      ]
    },
    {
      "cell_type": "code",
      "execution_count": null,
      "metadata": {
        "id": "KK1JqioCos32"
      },
      "outputs": [],
      "source": [
        "# Your code here"
      ]
    },
    {
      "cell_type": "code",
      "execution_count": null,
      "metadata": {
        "colab": {
          "base_uri": "https://localhost:8080/"
        },
        "id": "3hsR5278os32",
        "outputId": "22e1b6e4-a2ff-4b43-bc86-e799a4ab08a8"
      },
      "outputs": [
        {
          "name": "stdout",
          "output_type": "stream",
          "text": [
            "['example', 'eates', 'an', 'ayList', 'apacity', 'elements', 'elements', 'are', 'en', 'added', 'ayList', 'and', 'ayList', 'ed', 'accordingly']\n"
          ]
        }
      ],
      "source": [
        "# Solution\n",
        "def get_all_words_containing_a_or_e(text):\n",
        "  #find all the words starting with 'a' or 'e'\n",
        "  return re.findall(\"[ae]\\w+\", text)\n",
        "\n",
        "\n",
        "# Input.\n",
        "text = \"The following example creates an ArrayList with a capacity of 50 elements. Four elements are then added to the ArrayList and the ArrayList is trimmed accordingly.\"\n",
        "print(get_all_words_containing_a_or_e(text))\n",
        "# ['example', 'eates', 'an', 'ayList', 'apacity', 'elements', 'elements', 'are', 'en', 'added', 'ayList', 'and', 'ayList', 'ed', 'accordingly']"
      ]
    },
    {
      "cell_type": "markdown",
      "metadata": {
        "id": "CxfIZ5o9os33"
      },
      "source": [
        "29) Write a Python program to separate and print the numbers and their position of a given string."
      ]
    },
    {
      "cell_type": "code",
      "execution_count": null,
      "metadata": {
        "id": "sewlweAPos33"
      },
      "outputs": [],
      "source": [
        "# Your code here"
      ]
    },
    {
      "cell_type": "code",
      "execution_count": null,
      "metadata": {
        "colab": {
          "base_uri": "https://localhost:8080/"
        },
        "id": "XIuiRvmAos33",
        "outputId": "4d05f075-39e4-4f46-d0f1-7110627d1d5d"
      },
      "outputs": [
        {
          "name": "stdout",
          "output_type": "stream",
          "text": [
            "50\n",
            "Index position: 62\n"
          ]
        }
      ],
      "source": [
        "# Solution\n",
        "def print_all_numbers_and_their_position(text):\n",
        "  for m in re.finditer(\"\\d+\", text):\n",
        "      print(m.group(0))\n",
        "      print(\"Index position:\", m.start())\n",
        "    \n",
        "\n",
        "# Input.\n",
        "text = \"The following example creates an ArrayList with a capacity of 50 elements. Four elements are then added to the ArrayList and the ArrayList is trimmed accordingly.\"\n",
        "print_all_numbers_and_their_position(text)\n",
        "# 50\n",
        "# Index position: 62"
      ]
    },
    {
      "cell_type": "markdown",
      "metadata": {
        "id": "JguO0fUjos34"
      },
      "source": [
        "30) Write a Python program to abbreviate 'Road' as 'Rd.' in a given string."
      ]
    },
    {
      "cell_type": "code",
      "execution_count": null,
      "metadata": {
        "id": "uhC6OobXos34"
      },
      "outputs": [],
      "source": [
        "# Your code here"
      ]
    },
    {
      "cell_type": "code",
      "execution_count": null,
      "metadata": {
        "colab": {
          "base_uri": "https://localhost:8080/"
        },
        "id": "VJE1Xm2Bos34",
        "outputId": "7f14ea5f-3da8-4a09-e1fe-1c60854fcc8e"
      },
      "outputs": [
        {
          "name": "stdout",
          "output_type": "stream",
          "text": [
            "21 Ramkrishna Rd.\n"
          ]
        }
      ],
      "source": [
        "# Solution\n",
        "def abbreviate_road(street):\n",
        "  return re.sub('Road$', 'Rd.', street)\n",
        "\n",
        "street = '21 Ramkrishna Road'\n",
        "\n",
        "print(abbreviate_road(street))  # 21 Ramkrishna Rd.\n"
      ]
    }
  ],
  "metadata": {
    "colab": {
      "collapsed_sections": [],
      "name": "Copy of regex-exercises-solutions.ipynb",
      "provenance": []
    },
    "kernelspec": {
      "display_name": "Python 3",
      "language": "python",
      "name": "python3"
    },
    "language_info": {
      "codemirror_mode": {
        "name": "ipython",
        "version": 3
      },
      "file_extension": ".py",
      "mimetype": "text/x-python",
      "name": "python",
      "nbconvert_exporter": "python",
      "pygments_lexer": "ipython3",
      "version": "3.6.4"
    }
  },
  "nbformat": 4,
  "nbformat_minor": 0
}